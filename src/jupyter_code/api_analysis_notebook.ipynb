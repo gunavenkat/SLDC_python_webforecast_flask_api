{
 "cells": [
  {
   "attachments": {},
   "cell_type": "markdown",
   "metadata": {},
   "source": [
    "Api_Analysis_notebook\n",
    "\n",
    "- import all the required libraries"
   ]
  },
  {
   "cell_type": "code",
   "execution_count": 1,
   "metadata": {},
   "outputs": [],
   "source": [
    "import requests\n",
    "import json\n",
    "import pandas as pd\n",
    "import matplotlib as plt"
   ]
  },
  {
   "attachments": {},
   "cell_type": "markdown",
   "metadata": {},
   "source": [
    "- Enter your user name and API key"
   ]
  },
  {
   "cell_type": "code",
   "execution_count": 2,
   "metadata": {
    "tags": [
     "parameters"
    ]
   },
   "outputs": [],
   "source": [
    "USER = \"admin\"\n",
    "API_KEY = \"123\""
   ]
  },
  {
   "attachments": {},
   "cell_type": "markdown",
   "metadata": {},
   "source": [
    "- the below function is used to fetch the data from the weather api using the flask endpoint api"
   ]
  },
  {
   "cell_type": "code",
   "execution_count": 11,
   "metadata": {},
   "outputs": [],
   "source": [
    "place_list= {}"
   ]
  },
  {
   "cell_type": "code",
   "execution_count": 3,
   "metadata": {},
   "outputs": [],
   "source": [
    "def weather_call(place):\n",
    "    \"\"\"weather api call to request json data from the flask end point\n",
    "\n",
    "    Args:\n",
    "        place (string): the palce entered by the user for the weather loation detection\n",
    "\n",
    "    Returns:\n",
    "        dictionary:  the response data in form of dictionary from the request fetch\n",
    "    \"\"\"\n",
    "    # creates the json data to send to the api\n",
    "    data = json.dumps({\"user\": USER, \"api-key\": API_KEY, \"place\": place})\n",
    "    # try fetching the response\n",
    "    try:\n",
    "        response = requests.get(\"http://127.0.0.1:45000/\", json=data)\n",
    "    except Exception as e:\n",
    "        print(\"Unable to connect to flask api\")\n",
    "        return False\n",
    "    # if the response is received\n",
    "    if response.ok:\n",
    "        # get the json from response\n",
    "        dictionary = response.json()\n",
    "        if dictionary[\"status\"] == \"false\":\n",
    "            print(dictionary[\"reason\"])\n",
    "            return False\n",
    "        # add a parameter in case for ordering\n",
    "        dictionary[\"s.no\"] = len(place_list)\n",
    "        place_list[dictionary[\"area_name\"]] = dictionary\n",
    "        print(\"Successfully fetched the data try the response statement\")\n",
    "        return {dictionary[\"area_name\"]: dictionary}\n",
    "    else:\n",
    "        print(\"response not found\")\n",
    "        return False"
   ]
  },
  {
   "attachments": {},
   "cell_type": "markdown",
   "metadata": {},
   "source": [
    "- the below function is used to get the location in names or in longitude and latitude form with error checks"
   ]
  },
  {
   "cell_type": "code",
   "execution_count": 4,
   "metadata": {},
   "outputs": [],
   "source": [
    "def get_place():\n",
    "    \"\"\"\n",
    "        the function gets the place from the user in the form of name or in the latitude and the longitude format.\n",
    "    Raises:\n",
    "        TypeError: incase of input other than the specified one in entered\n",
    "\n",
    "    Returns:\n",
    "        string: the user entered location or coordinates\n",
    "    \"\"\"\n",
    "    while True:\n",
    "        # try getting the data in which form\n",
    "        try:\n",
    "            n = int(\n",
    "                input(\n",
    "                    'Do you want to select the place by latitude/longitude(Enter \"0\") or by entering the place name(Enter \"1\")?'\n",
    "                )\n",
    "            )\n",
    "            # prompt user incase of invalid input\n",
    "            if n not in [0, 1]:\n",
    "                raise TypeError(\"> Only integers '0' and '1' are allowed\")\n",
    "        except TypeError as e:\n",
    "            print(e)\n",
    "            continue\n",
    "        except:\n",
    "            print(\"> Invalid Input Try Again..\")\n",
    "            continue\n",
    "        else:\n",
    "            break\n",
    "    # check if it is in name or coordinates\n",
    "    if n:\n",
    "        # returns the input location\n",
    "        return input(\"Enter the location\").strip()\n",
    "    else:\n",
    "        # gets the latitude\n",
    "        while True:\n",
    "            try:\n",
    "                lat = float(input(\"Enter the latitude of the location: -\"))\n",
    "                # check if they are within range\n",
    "                if not (-90 <= lat and lat <= 90):\n",
    "                    raise TypeError(\"> Enter a valid latitude value..\")\n",
    "            except TypeError as e:\n",
    "                print(e)\n",
    "                continue\n",
    "            except:\n",
    "                print(\"> Invalid Input Try Again..\")\n",
    "                continue\n",
    "            else:\n",
    "                break\n",
    "        # gets the longitude\n",
    "        while True:\n",
    "            try:\n",
    "                lon = float(input(\"Enter the longitude of the location: -\"))\n",
    "                # check if they are within range\n",
    "                if not (-180 <= lon and lon < 180):\n",
    "                    raise TypeError(\"> Enter a valid longitude value..\")\n",
    "            except TypeError as e:\n",
    "                print(e)\n",
    "                continue\n",
    "            except:\n",
    "                print(\"> Invalid Input Try Again..\")\n",
    "                continue\n",
    "            else:\n",
    "                break\n",
    "        #returns the fetched coordinates\n",
    "        return f\"{str(lat)},{str(lon)}\""
   ]
  },
  {
   "attachments": {},
   "cell_type": "markdown",
   "metadata": {},
   "source": [
    "- the below code is for testing of the above function"
   ]
  },
  {
   "cell_type": "code",
   "execution_count": 6,
   "metadata": {
    "tags": []
   },
   "outputs": [
    {
     "name": "stdout",
     "output_type": "stream",
     "text": [
      "> Invalid Input Try Again..\n",
      "> Invalid Input Try Again..\n",
      "> Enter a valid longitude value..\n"
     ]
    },
    {
     "data": {
      "text/plain": [
       "'45.0,45.0'"
      ]
     },
     "execution_count": 6,
     "metadata": {},
     "output_type": "execute_result"
    }
   ],
   "source": [
    "get_place()"
   ]
  },
  {
   "attachments": {},
   "cell_type": "markdown",
   "metadata": {},
   "source": [
    "- the below code is to fetch the weather data"
   ]
  },
  {
   "cell_type": "code",
   "execution_count": 12,
   "metadata": {},
   "outputs": [
    {
     "name": "stdout",
     "output_type": "stream",
     "text": [
      "enter location\n",
      "Successfully fetched the data try the response statement\n"
     ]
    }
   ],
   "source": [
    "# run to get the flask api response on place\n",
    "print(\"enter location\")\n",
    "response = weather_call(get_place())"
   ]
  },
  {
   "attachments": {},
   "cell_type": "markdown",
   "metadata": {},
   "source": [
    "- if the response is received then add the data to the dataframe"
   ]
  },
  {
   "cell_type": "code",
   "execution_count": 17,
   "metadata": {},
   "outputs": [],
   "source": [
    "if response:\n",
    "    place_dataframe = pd.DataFrame(response)"
   ]
  },
  {
   "cell_type": "markdown",
   "metadata": {},
   "source": [
    "- print the place_list list of values"
   ]
  },
  {
   "cell_type": "code",
   "execution_count": 18,
   "metadata": {
    "tags": [
     "parameters"
    ]
   },
   "outputs": [
    {
     "data": {
      "text/plain": [
       "{'Chennai': {'status': 'true',\n",
       "  'user': 'admin',\n",
       "  'api-key': '123',\n",
       "  'place': 'chennai',\n",
       "  'area_name': 'Chennai',\n",
       "  'country': 'India',\n",
       "  'latitude': '13.083',\n",
       "  'longitude': '80.283',\n",
       "  'population': '4328063',\n",
       "  'region': 'Tamil Nadu',\n",
       "  'feels_like_c': '35',\n",
       "  'feels_like_f': '96',\n",
       "  'cloudcover': '25',\n",
       "  'humidity': '30',\n",
       "  'local_obs_date_time': '2023-03-02 01:55 PM',\n",
       "  'observation_time': '08:25 AM',\n",
       "  'precip_inches': '0.0',\n",
       "  'precip_mm': '0.0',\n",
       "  'pressure': '1016',\n",
       "  'pressure_inches': '30',\n",
       "  'temp_c': '33',\n",
       "  'temp_f': '91',\n",
       "  'uv_index': '8',\n",
       "  'visibility': '7',\n",
       "  'visibility_miles': '4',\n",
       "  'weather_code': '116',\n",
       "  'weather_desc': 'Partly cloudy',\n",
       "  'winddir16_point': 'E',\n",
       "  'winddir_degree': '100',\n",
       "  'windspeed_kmph': '24',\n",
       "  'windspeed_miles': '15',\n",
       "  's.no': 0},\n",
       " 'New Delhi': {'status': 'true',\n",
       "  'user': 'admin',\n",
       "  'api-key': '123',\n",
       "  'place': 'delhi',\n",
       "  'area_name': 'New Delhi',\n",
       "  'country': 'India',\n",
       "  'latitude': '28.600',\n",
       "  'longitude': '77.200',\n",
       "  'population': '10928270',\n",
       "  'region': 'Delhi',\n",
       "  'feels_like_c': '28',\n",
       "  'feels_like_f': '82',\n",
       "  'cloudcover': '0',\n",
       "  'humidity': '29',\n",
       "  'local_obs_date_time': '2023-03-02 02:50 PM',\n",
       "  'observation_time': '09:20 AM',\n",
       "  'precip_inches': '0.0',\n",
       "  'precip_mm': '0.0',\n",
       "  'pressure': '1019',\n",
       "  'pressure_inches': '30',\n",
       "  'temp_c': '30',\n",
       "  'temp_f': '86',\n",
       "  'uv_index': '9',\n",
       "  'visibility': '3',\n",
       "  'visibility_miles': '1',\n",
       "  'weather_code': '143',\n",
       "  'weather_desc': 'Haze',\n",
       "  'winddir16_point': 'W',\n",
       "  'winddir_degree': '280',\n",
       "  'windspeed_kmph': '9',\n",
       "  'windspeed_miles': '6',\n",
       "  's.no': 1}}"
      ]
     },
     "execution_count": 18,
     "metadata": {},
     "output_type": "execute_result"
    }
   ],
   "source": [
    "place_list"
   ]
  },
  {
   "attachments": {},
   "cell_type": "markdown",
   "metadata": {},
   "source": [
    "- print the place_dataframe which the responses have been added"
   ]
  },
  {
   "cell_type": "code",
   "execution_count": 25,
   "metadata": {
    "tags": [
     "parameters"
    ]
   },
   "outputs": [
    {
     "data": {
      "text/html": [
       "<div>\n",
       "<style scoped>\n",
       "    .dataframe tbody tr th:only-of-type {\n",
       "        vertical-align: middle;\n",
       "    }\n",
       "\n",
       "    .dataframe tbody tr th {\n",
       "        vertical-align: top;\n",
       "    }\n",
       "\n",
       "    .dataframe thead th {\n",
       "        text-align: right;\n",
       "    }\n",
       "</style>\n",
       "<table border=\"1\" class=\"dataframe\">\n",
       "  <thead>\n",
       "    <tr style=\"text-align: right;\">\n",
       "      <th></th>\n",
       "      <th>Chennai</th>\n",
       "      <th>Vijayawada</th>\n",
       "      <th>Bombay</th>\n",
       "    </tr>\n",
       "  </thead>\n",
       "  <tbody>\n",
       "    <tr>\n",
       "      <th>api-key</th>\n",
       "      <td>123</td>\n",
       "      <td>123</td>\n",
       "      <td>123</td>\n",
       "    </tr>\n",
       "    <tr>\n",
       "      <th>area_name</th>\n",
       "      <td>Chennai</td>\n",
       "      <td>Vijayawada</td>\n",
       "      <td>Bombay</td>\n",
       "    </tr>\n",
       "    <tr>\n",
       "      <th>cloudcover</th>\n",
       "      <td>25</td>\n",
       "      <td>0</td>\n",
       "      <td>0</td>\n",
       "    </tr>\n",
       "    <tr>\n",
       "      <th>country</th>\n",
       "      <td>India</td>\n",
       "      <td>India</td>\n",
       "      <td>India</td>\n",
       "    </tr>\n",
       "    <tr>\n",
       "      <th>feels_like_c</th>\n",
       "      <td>26</td>\n",
       "      <td>26</td>\n",
       "      <td>25</td>\n",
       "    </tr>\n",
       "    <tr>\n",
       "      <th>feels_like_f</th>\n",
       "      <td>78</td>\n",
       "      <td>78</td>\n",
       "      <td>77</td>\n",
       "    </tr>\n",
       "    <tr>\n",
       "      <th>humidity</th>\n",
       "      <td>89</td>\n",
       "      <td>79</td>\n",
       "      <td>39</td>\n",
       "    </tr>\n",
       "    <tr>\n",
       "      <th>latitude</th>\n",
       "      <td>13.083</td>\n",
       "      <td>16.517</td>\n",
       "      <td>18.975</td>\n",
       "    </tr>\n",
       "    <tr>\n",
       "      <th>local_obs_date_time</th>\n",
       "      <td>2023-02-28 07:09 AM</td>\n",
       "      <td>2023-02-28 09:20 AM</td>\n",
       "      <td>2023-02-28 07:54 AM</td>\n",
       "    </tr>\n",
       "    <tr>\n",
       "      <th>longitude</th>\n",
       "      <td>80.283</td>\n",
       "      <td>80.617</td>\n",
       "      <td>72.826</td>\n",
       "    </tr>\n",
       "    <tr>\n",
       "      <th>observation_time</th>\n",
       "      <td>01:39 AM</td>\n",
       "      <td>03:50 AM</td>\n",
       "      <td>02:24 AM</td>\n",
       "    </tr>\n",
       "    <tr>\n",
       "      <th>place</th>\n",
       "      <td>chennai</td>\n",
       "      <td>vijayawada</td>\n",
       "      <td>mumbai</td>\n",
       "    </tr>\n",
       "    <tr>\n",
       "      <th>population</th>\n",
       "      <td>4328063</td>\n",
       "      <td>874684</td>\n",
       "      <td>12692717</td>\n",
       "    </tr>\n",
       "    <tr>\n",
       "      <th>precip_inches</th>\n",
       "      <td>0.0</td>\n",
       "      <td>0.0</td>\n",
       "      <td>0.0</td>\n",
       "    </tr>\n",
       "    <tr>\n",
       "      <th>precip_mm</th>\n",
       "      <td>0.0</td>\n",
       "      <td>0.0</td>\n",
       "      <td>0.0</td>\n",
       "    </tr>\n",
       "    <tr>\n",
       "      <th>pressure</th>\n",
       "      <td>1016</td>\n",
       "      <td>1018</td>\n",
       "      <td>1015</td>\n",
       "    </tr>\n",
       "    <tr>\n",
       "      <th>pressure_inches</th>\n",
       "      <td>30</td>\n",
       "      <td>30</td>\n",
       "      <td>30</td>\n",
       "    </tr>\n",
       "    <tr>\n",
       "      <th>region</th>\n",
       "      <td>Tamil Nadu</td>\n",
       "      <td>Andhra Pradesh</td>\n",
       "      <td>Maharashtra</td>\n",
       "    </tr>\n",
       "    <tr>\n",
       "      <th>s.no</th>\n",
       "      <td>0</td>\n",
       "      <td>1</td>\n",
       "      <td>2</td>\n",
       "    </tr>\n",
       "    <tr>\n",
       "      <th>status</th>\n",
       "      <td>true</td>\n",
       "      <td>true</td>\n",
       "      <td>true</td>\n",
       "    </tr>\n",
       "    <tr>\n",
       "      <th>temp_c</th>\n",
       "      <td>24</td>\n",
       "      <td>25</td>\n",
       "      <td>24</td>\n",
       "    </tr>\n",
       "    <tr>\n",
       "      <th>temp_f</th>\n",
       "      <td>75</td>\n",
       "      <td>77</td>\n",
       "      <td>75</td>\n",
       "    </tr>\n",
       "    <tr>\n",
       "      <th>user</th>\n",
       "      <td>admin</td>\n",
       "      <td>admin</td>\n",
       "      <td>admin</td>\n",
       "    </tr>\n",
       "    <tr>\n",
       "      <th>uv_index</th>\n",
       "      <td>6</td>\n",
       "      <td>7</td>\n",
       "      <td>7</td>\n",
       "    </tr>\n",
       "    <tr>\n",
       "      <th>visibility</th>\n",
       "      <td>2</td>\n",
       "      <td>3</td>\n",
       "      <td>3</td>\n",
       "    </tr>\n",
       "    <tr>\n",
       "      <th>visibility_miles</th>\n",
       "      <td>0</td>\n",
       "      <td>1</td>\n",
       "      <td>1</td>\n",
       "    </tr>\n",
       "    <tr>\n",
       "      <th>weather_code</th>\n",
       "      <td>248</td>\n",
       "      <td>143</td>\n",
       "      <td>122</td>\n",
       "    </tr>\n",
       "    <tr>\n",
       "      <th>weather_desc</th>\n",
       "      <td>Mist, shallow fog</td>\n",
       "      <td>Mist</td>\n",
       "      <td>Smoke</td>\n",
       "    </tr>\n",
       "    <tr>\n",
       "      <th>winddir16_point</th>\n",
       "      <td>N</td>\n",
       "      <td>ENE</td>\n",
       "      <td>N</td>\n",
       "    </tr>\n",
       "    <tr>\n",
       "      <th>winddir_degree</th>\n",
       "      <td>359</td>\n",
       "      <td>70</td>\n",
       "      <td>10</td>\n",
       "    </tr>\n",
       "    <tr>\n",
       "      <th>windspeed_kmph</th>\n",
       "      <td>4</td>\n",
       "      <td>9</td>\n",
       "      <td>4</td>\n",
       "    </tr>\n",
       "    <tr>\n",
       "      <th>windspeed_miles</th>\n",
       "      <td>2</td>\n",
       "      <td>6</td>\n",
       "      <td>2</td>\n",
       "    </tr>\n",
       "  </tbody>\n",
       "</table>\n",
       "</div>"
      ],
      "text/plain": [
       "                                 Chennai           Vijayawada  \\\n",
       "api-key                              123                  123   \n",
       "area_name                        Chennai           Vijayawada   \n",
       "cloudcover                            25                    0   \n",
       "country                            India                India   \n",
       "feels_like_c                          26                   26   \n",
       "feels_like_f                          78                   78   \n",
       "humidity                              89                   79   \n",
       "latitude                          13.083               16.517   \n",
       "local_obs_date_time  2023-02-28 07:09 AM  2023-02-28 09:20 AM   \n",
       "longitude                         80.283               80.617   \n",
       "observation_time                01:39 AM             03:50 AM   \n",
       "place                            chennai           vijayawada   \n",
       "population                       4328063               874684   \n",
       "precip_inches                        0.0                  0.0   \n",
       "precip_mm                            0.0                  0.0   \n",
       "pressure                            1016                 1018   \n",
       "pressure_inches                       30                   30   \n",
       "region                        Tamil Nadu       Andhra Pradesh   \n",
       "s.no                                   0                    1   \n",
       "status                              true                 true   \n",
       "temp_c                                24                   25   \n",
       "temp_f                                75                   77   \n",
       "user                               admin                admin   \n",
       "uv_index                               6                    7   \n",
       "visibility                             2                    3   \n",
       "visibility_miles                       0                    1   \n",
       "weather_code                         248                  143   \n",
       "weather_desc           Mist, shallow fog                 Mist   \n",
       "winddir16_point                        N                  ENE   \n",
       "winddir_degree                       359                   70   \n",
       "windspeed_kmph                         4                    9   \n",
       "windspeed_miles                        2                    6   \n",
       "\n",
       "                                  Bombay  \n",
       "api-key                              123  \n",
       "area_name                         Bombay  \n",
       "cloudcover                             0  \n",
       "country                            India  \n",
       "feels_like_c                          25  \n",
       "feels_like_f                          77  \n",
       "humidity                              39  \n",
       "latitude                          18.975  \n",
       "local_obs_date_time  2023-02-28 07:54 AM  \n",
       "longitude                         72.826  \n",
       "observation_time                02:24 AM  \n",
       "place                             mumbai  \n",
       "population                      12692717  \n",
       "precip_inches                        0.0  \n",
       "precip_mm                            0.0  \n",
       "pressure                            1015  \n",
       "pressure_inches                       30  \n",
       "region                       Maharashtra  \n",
       "s.no                                   2  \n",
       "status                              true  \n",
       "temp_c                                24  \n",
       "temp_f                                75  \n",
       "user                               admin  \n",
       "uv_index                               7  \n",
       "visibility                             3  \n",
       "visibility_miles                       1  \n",
       "weather_code                         122  \n",
       "weather_desc                       Smoke  \n",
       "winddir16_point                        N  \n",
       "winddir_degree                        10  \n",
       "windspeed_kmph                         4  \n",
       "windspeed_miles                        2  "
      ]
     },
     "execution_count": 25,
     "metadata": {},
     "output_type": "execute_result"
    }
   ],
   "source": [
    "place_dataframe"
   ]
  },
  {
   "attachments": {},
   "cell_type": "markdown",
   "metadata": {},
   "source": [
    "- get the data of weather of some few cities"
   ]
  },
  {
   "cell_type": "code",
   "execution_count": 16,
   "metadata": {},
   "outputs": [
    {
     "name": "stdout",
     "output_type": "stream",
     "text": [
      "Successfully fetched the data try the response statement\n"
     ]
    }
   ],
   "source": [
    "recent_fetch = weather_call(get_place())"
   ]
  },
  {
   "attachments": {},
   "cell_type": "markdown",
   "metadata": {},
   "source": [
    "- add them to the dataframe if you want to compare"
   ]
  },
  {
   "cell_type": "code",
   "execution_count": 20,
   "metadata": {},
   "outputs": [],
   "source": [
    "try:\n",
    "    place_dataframe = pd.concat([place_dataframe, pd.DataFrame(recent_fetch)], axis=1)\n",
    "except:\n",
    "    print(\"unable to append to list\")"
   ]
  },
  {
   "attachments": {},
   "cell_type": "markdown",
   "metadata": {},
   "source": [
    "- save the place_dataframe data to json in case you dont want to lose the fetched weather data"
   ]
  },
  {
   "cell_type": "code",
   "execution_count": null,
   "metadata": {},
   "outputs": [],
   "source": [
    "# save data_frame to json\n",
    "place_dataframe.to_json(\"place_dataframe.json\")"
   ]
  },
  {
   "attachments": {},
   "cell_type": "markdown",
   "metadata": {},
   "source": [
    "- load the saved json data into the place_dataframe "
   ]
  },
  {
   "cell_type": "code",
   "execution_count": 24,
   "metadata": {},
   "outputs": [],
   "source": [
    "# retrieve data_frame from json\n",
    "place_dataframe = pd.read_json(\"place_dataframe.json\")"
   ]
  },
  {
   "attachments": {},
   "cell_type": "markdown",
   "metadata": {},
   "source": [
    "- transpose the place_dataframe to perform various opration and plotting purposes\n",
    "- and print the data of the transposed dataframe"
   ]
  },
  {
   "cell_type": "code",
   "execution_count": 26,
   "metadata": {},
   "outputs": [
    {
     "data": {
      "text/html": [
       "<div>\n",
       "<style scoped>\n",
       "    .dataframe tbody tr th:only-of-type {\n",
       "        vertical-align: middle;\n",
       "    }\n",
       "\n",
       "    .dataframe tbody tr th {\n",
       "        vertical-align: top;\n",
       "    }\n",
       "\n",
       "    .dataframe thead th {\n",
       "        text-align: right;\n",
       "    }\n",
       "</style>\n",
       "<table border=\"1\" class=\"dataframe\">\n",
       "  <thead>\n",
       "    <tr style=\"text-align: right;\">\n",
       "      <th></th>\n",
       "      <th>temp_c</th>\n",
       "      <th>humidity</th>\n",
       "    </tr>\n",
       "  </thead>\n",
       "  <tbody>\n",
       "    <tr>\n",
       "      <th>Chennai</th>\n",
       "      <td>24</td>\n",
       "      <td>89</td>\n",
       "    </tr>\n",
       "    <tr>\n",
       "      <th>Vijayawada</th>\n",
       "      <td>25</td>\n",
       "      <td>79</td>\n",
       "    </tr>\n",
       "    <tr>\n",
       "      <th>Bombay</th>\n",
       "      <td>24</td>\n",
       "      <td>39</td>\n",
       "    </tr>\n",
       "  </tbody>\n",
       "</table>\n",
       "</div>"
      ],
      "text/plain": [
       "           temp_c humidity\n",
       "Chennai        24       89\n",
       "Vijayawada     25       79\n",
       "Bombay         24       39"
      ]
     },
     "execution_count": 26,
     "metadata": {},
     "output_type": "execute_result"
    }
   ],
   "source": [
    "place_dataframe_transpose = place_dataframe.T\n",
    "place_dataframe_transpose = place_dataframe.T[[\"temp_c\", \"humidity\"]]\n",
    "place_dataframe_transpose"
   ]
  },
  {
   "attachments": {},
   "cell_type": "markdown",
   "metadata": {},
   "source": [
    "- plot the data of the transposed dataframe in the desired plotting form"
   ]
  },
  {
   "cell_type": "code",
   "execution_count": 27,
   "metadata": {},
   "outputs": [
    {
     "data": {
      "text/plain": [
       "<Axes: >"
      ]
     },
     "execution_count": 27,
     "metadata": {},
     "output_type": "execute_result"
    },
    {
     "data": {
      "image/png": "[encoded data removed]",
      "text/plain": [
       "<Figure size 640x480 with 1 Axes>"
      ]
     },
     "metadata": {},
     "output_type": "display_data"
    }
   ],
   "source": [
    "place_dataframe_transpose.astype(str).astype(int).plot.bar()"
   ]
  }
 ],
 "metadata": {
  "kernelspec": {
   "display_name": "Python 3",
   "language": "python",
   "name": "python3"
  },
  "language_info": {
   "codemirror_mode": {
    "name": "ipython",
    "version": 3
   },
   "file_extension": ".py",
   "mimetype": "text/x-python",
   "name": "python",
   "nbconvert_exporter": "python",
   "pygments_lexer": "ipython3",
   "version": "3.11.1"
  },
  "orig_nbformat": 4,
  "vscode": {
   "interpreter": {
    "hash": "5238573367df39f7286bb46f9ff5f08f63a01a80960060ce41e3c79b190280fa"
   }
  }
 },
 "nbformat": 4,
 "nbformat_minor": 2
}
